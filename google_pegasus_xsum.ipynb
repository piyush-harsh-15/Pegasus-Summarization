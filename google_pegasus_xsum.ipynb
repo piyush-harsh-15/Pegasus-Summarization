{
  "nbformat": 4,
  "nbformat_minor": 0,
  "metadata": {
    "colab": {
      "name": "google/pegasus-xsum",
      "provenance": [],
      "authorship_tag": "ABX9TyOPDG4R0EQ3tFIUPF61E/qX",
      "include_colab_link": true
    },
    "kernelspec": {
      "name": "python3",
      "display_name": "Python 3"
    },
    "language_info": {
      "name": "python"
    }
  },
  "cells": [
    {
      "cell_type": "markdown",
      "metadata": {
        "id": "view-in-github",
        "colab_type": "text"
      },
      "source": [
        "<a href=\"https://colab.research.google.com/github/piyush-harsh-15/Pegasus-Summarization/blob/main/google_pegasus_xsum.ipynb\" target=\"_parent\"><img src=\"https://colab.research.google.com/assets/colab-badge.svg\" alt=\"Open In Colab\"/></a>"
      ]
    },
    {
      "cell_type": "markdown",
      "source": [
        "## Intalling Dependencies"
      ],
      "metadata": {
        "id": "hY5MaLxuqVXB"
      }
    },
    {
      "cell_type": "markdown",
      "source": [
        "Pytorch"
      ],
      "metadata": {
        "id": "dSoyyNjirAuN"
      }
    },
    {
      "cell_type": "code",
      "execution_count": 1,
      "metadata": {
        "colab": {
          "base_uri": "https://localhost:8080/"
        },
        "id": "h6Vl_7VSqKVb",
        "outputId": "d1250eab-1ac1-4335-fd71-ac6a2e0f6ef3"
      },
      "outputs": [
        {
          "output_type": "stream",
          "name": "stdout",
          "text": [
            "Looking in indexes: https://pypi.org/simple, https://download.pytorch.org/whl/cu113\n",
            "Requirement already satisfied: torch in /usr/local/lib/python3.7/dist-packages (1.10.0+cu111)\n",
            "Requirement already satisfied: torchvision in /usr/local/lib/python3.7/dist-packages (0.11.1+cu111)\n",
            "Requirement already satisfied: torchaudio in /usr/local/lib/python3.7/dist-packages (0.10.0+cu111)\n",
            "Requirement already satisfied: typing-extensions in /usr/local/lib/python3.7/dist-packages (from torch) (3.10.0.2)\n",
            "Requirement already satisfied: numpy in /usr/local/lib/python3.7/dist-packages (from torchvision) (1.21.5)\n",
            "Requirement already satisfied: pillow!=8.3.0,>=5.3.0 in /usr/local/lib/python3.7/dist-packages (from torchvision) (7.1.2)\n"
          ]
        }
      ],
      "source": [
        "# Install PyTorch\n",
        "!pip install torch torchvision torchaudio --extra-index-url https://download.pytorch.org/whl/cu113"
      ]
    },
    {
      "cell_type": "markdown",
      "source": [
        "Transformer"
      ],
      "metadata": {
        "id": "LNcVtMdWrFv_"
      }
    },
    {
      "cell_type": "code",
      "source": [
        "# Install transformers\n",
        "!pip install transformers"
      ],
      "metadata": {
        "colab": {
          "base_uri": "https://localhost:8080/"
        },
        "id": "ouL2O6-Mq2jl",
        "outputId": "29d89dfc-118d-4521-d970-b331041bad7b"
      },
      "execution_count": 2,
      "outputs": [
        {
          "output_type": "stream",
          "name": "stdout",
          "text": [
            "Collecting transformers\n",
            "  Downloading transformers-4.18.0-py3-none-any.whl (4.0 MB)\n",
            "\u001b[K     |████████████████████████████████| 4.0 MB 26.7 MB/s \n",
            "\u001b[?25hRequirement already satisfied: importlib-metadata in /usr/local/lib/python3.7/dist-packages (from transformers) (4.11.3)\n",
            "Collecting sacremoses\n",
            "  Downloading sacremoses-0.0.49-py3-none-any.whl (895 kB)\n",
            "\u001b[K     |████████████████████████████████| 895 kB 50.7 MB/s \n",
            "\u001b[?25hRequirement already satisfied: numpy>=1.17 in /usr/local/lib/python3.7/dist-packages (from transformers) (1.21.5)\n",
            "Requirement already satisfied: regex!=2019.12.17 in /usr/local/lib/python3.7/dist-packages (from transformers) (2019.12.20)\n",
            "Requirement already satisfied: filelock in /usr/local/lib/python3.7/dist-packages (from transformers) (3.6.0)\n",
            "Collecting huggingface-hub<1.0,>=0.1.0\n",
            "  Downloading huggingface_hub-0.5.1-py3-none-any.whl (77 kB)\n",
            "\u001b[K     |████████████████████████████████| 77 kB 7.1 MB/s \n",
            "\u001b[?25hRequirement already satisfied: packaging>=20.0 in /usr/local/lib/python3.7/dist-packages (from transformers) (21.3)\n",
            "Collecting pyyaml>=5.1\n",
            "  Downloading PyYAML-6.0-cp37-cp37m-manylinux_2_5_x86_64.manylinux1_x86_64.manylinux_2_12_x86_64.manylinux2010_x86_64.whl (596 kB)\n",
            "\u001b[K     |████████████████████████████████| 596 kB 51.6 MB/s \n",
            "\u001b[?25hRequirement already satisfied: requests in /usr/local/lib/python3.7/dist-packages (from transformers) (2.23.0)\n",
            "Requirement already satisfied: tqdm>=4.27 in /usr/local/lib/python3.7/dist-packages (from transformers) (4.63.0)\n",
            "Collecting tokenizers!=0.11.3,<0.13,>=0.11.1\n",
            "  Downloading tokenizers-0.11.6-cp37-cp37m-manylinux_2_12_x86_64.manylinux2010_x86_64.whl (6.5 MB)\n",
            "\u001b[K     |████████████████████████████████| 6.5 MB 63.2 MB/s \n",
            "\u001b[?25hRequirement already satisfied: typing-extensions>=3.7.4.3 in /usr/local/lib/python3.7/dist-packages (from huggingface-hub<1.0,>=0.1.0->transformers) (3.10.0.2)\n",
            "Requirement already satisfied: pyparsing!=3.0.5,>=2.0.2 in /usr/local/lib/python3.7/dist-packages (from packaging>=20.0->transformers) (3.0.7)\n",
            "Requirement already satisfied: zipp>=0.5 in /usr/local/lib/python3.7/dist-packages (from importlib-metadata->transformers) (3.7.0)\n",
            "Requirement already satisfied: chardet<4,>=3.0.2 in /usr/local/lib/python3.7/dist-packages (from requests->transformers) (3.0.4)\n",
            "Requirement already satisfied: certifi>=2017.4.17 in /usr/local/lib/python3.7/dist-packages (from requests->transformers) (2021.10.8)\n",
            "Requirement already satisfied: urllib3!=1.25.0,!=1.25.1,<1.26,>=1.21.1 in /usr/local/lib/python3.7/dist-packages (from requests->transformers) (1.24.3)\n",
            "Requirement already satisfied: idna<3,>=2.5 in /usr/local/lib/python3.7/dist-packages (from requests->transformers) (2.10)\n",
            "Requirement already satisfied: six in /usr/local/lib/python3.7/dist-packages (from sacremoses->transformers) (1.15.0)\n",
            "Requirement already satisfied: joblib in /usr/local/lib/python3.7/dist-packages (from sacremoses->transformers) (1.1.0)\n",
            "Requirement already satisfied: click in /usr/local/lib/python3.7/dist-packages (from sacremoses->transformers) (7.1.2)\n",
            "Installing collected packages: pyyaml, tokenizers, sacremoses, huggingface-hub, transformers\n",
            "  Attempting uninstall: pyyaml\n",
            "    Found existing installation: PyYAML 3.13\n",
            "    Uninstalling PyYAML-3.13:\n",
            "      Successfully uninstalled PyYAML-3.13\n",
            "Successfully installed huggingface-hub-0.5.1 pyyaml-6.0 sacremoses-0.0.49 tokenizers-0.11.6 transformers-4.18.0\n"
          ]
        }
      ]
    },
    {
      "cell_type": "markdown",
      "source": [
        "Sentencepiece"
      ],
      "metadata": {
        "id": "E4yzI3CI1_Dk"
      }
    },
    {
      "cell_type": "code",
      "source": [
        "!pip install sentencepiece"
      ],
      "metadata": {
        "colab": {
          "base_uri": "https://localhost:8080/"
        },
        "id": "J_Z2Eb4Z09UJ",
        "outputId": "9db83f2f-d629-4f31-fb91-b6e82bddb456"
      },
      "execution_count": 3,
      "outputs": [
        {
          "output_type": "stream",
          "name": "stdout",
          "text": [
            "Collecting sentencepiece\n",
            "  Downloading sentencepiece-0.1.96-cp37-cp37m-manylinux_2_17_x86_64.manylinux2014_x86_64.whl (1.2 MB)\n",
            "\u001b[?25l\r\u001b[K     |▎                               | 10 kB 18.9 MB/s eta 0:00:01\r\u001b[K     |▌                               | 20 kB 24.5 MB/s eta 0:00:01\r\u001b[K     |▉                               | 30 kB 30.0 MB/s eta 0:00:01\r\u001b[K     |█                               | 40 kB 25.4 MB/s eta 0:00:01\r\u001b[K     |█▍                              | 51 kB 21.8 MB/s eta 0:00:01\r\u001b[K     |█▋                              | 61 kB 24.6 MB/s eta 0:00:01\r\u001b[K     |██                              | 71 kB 23.1 MB/s eta 0:00:01\r\u001b[K     |██▏                             | 81 kB 24.6 MB/s eta 0:00:01\r\u001b[K     |██▍                             | 92 kB 26.7 MB/s eta 0:00:01\r\u001b[K     |██▊                             | 102 kB 23.6 MB/s eta 0:00:01\r\u001b[K     |███                             | 112 kB 23.6 MB/s eta 0:00:01\r\u001b[K     |███▎                            | 122 kB 23.6 MB/s eta 0:00:01\r\u001b[K     |███▌                            | 133 kB 23.6 MB/s eta 0:00:01\r\u001b[K     |███▉                            | 143 kB 23.6 MB/s eta 0:00:01\r\u001b[K     |████                            | 153 kB 23.6 MB/s eta 0:00:01\r\u001b[K     |████▎                           | 163 kB 23.6 MB/s eta 0:00:01\r\u001b[K     |████▋                           | 174 kB 23.6 MB/s eta 0:00:01\r\u001b[K     |████▉                           | 184 kB 23.6 MB/s eta 0:00:01\r\u001b[K     |█████▏                          | 194 kB 23.6 MB/s eta 0:00:01\r\u001b[K     |█████▍                          | 204 kB 23.6 MB/s eta 0:00:01\r\u001b[K     |█████▊                          | 215 kB 23.6 MB/s eta 0:00:01\r\u001b[K     |██████                          | 225 kB 23.6 MB/s eta 0:00:01\r\u001b[K     |██████▏                         | 235 kB 23.6 MB/s eta 0:00:01\r\u001b[K     |██████▌                         | 245 kB 23.6 MB/s eta 0:00:01\r\u001b[K     |██████▊                         | 256 kB 23.6 MB/s eta 0:00:01\r\u001b[K     |███████                         | 266 kB 23.6 MB/s eta 0:00:01\r\u001b[K     |███████▎                        | 276 kB 23.6 MB/s eta 0:00:01\r\u001b[K     |███████▋                        | 286 kB 23.6 MB/s eta 0:00:01\r\u001b[K     |███████▉                        | 296 kB 23.6 MB/s eta 0:00:01\r\u001b[K     |████████                        | 307 kB 23.6 MB/s eta 0:00:01\r\u001b[K     |████████▍                       | 317 kB 23.6 MB/s eta 0:00:01\r\u001b[K     |████████▋                       | 327 kB 23.6 MB/s eta 0:00:01\r\u001b[K     |█████████                       | 337 kB 23.6 MB/s eta 0:00:01\r\u001b[K     |█████████▏                      | 348 kB 23.6 MB/s eta 0:00:01\r\u001b[K     |█████████▌                      | 358 kB 23.6 MB/s eta 0:00:01\r\u001b[K     |█████████▊                      | 368 kB 23.6 MB/s eta 0:00:01\r\u001b[K     |██████████                      | 378 kB 23.6 MB/s eta 0:00:01\r\u001b[K     |██████████▎                     | 389 kB 23.6 MB/s eta 0:00:01\r\u001b[K     |██████████▌                     | 399 kB 23.6 MB/s eta 0:00:01\r\u001b[K     |██████████▉                     | 409 kB 23.6 MB/s eta 0:00:01\r\u001b[K     |███████████                     | 419 kB 23.6 MB/s eta 0:00:01\r\u001b[K     |███████████▍                    | 430 kB 23.6 MB/s eta 0:00:01\r\u001b[K     |███████████▋                    | 440 kB 23.6 MB/s eta 0:00:01\r\u001b[K     |███████████▉                    | 450 kB 23.6 MB/s eta 0:00:01\r\u001b[K     |████████████▏                   | 460 kB 23.6 MB/s eta 0:00:01\r\u001b[K     |████████████▍                   | 471 kB 23.6 MB/s eta 0:00:01\r\u001b[K     |████████████▊                   | 481 kB 23.6 MB/s eta 0:00:01\r\u001b[K     |█████████████                   | 491 kB 23.6 MB/s eta 0:00:01\r\u001b[K     |█████████████▎                  | 501 kB 23.6 MB/s eta 0:00:01\r\u001b[K     |█████████████▌                  | 512 kB 23.6 MB/s eta 0:00:01\r\u001b[K     |█████████████▊                  | 522 kB 23.6 MB/s eta 0:00:01\r\u001b[K     |██████████████                  | 532 kB 23.6 MB/s eta 0:00:01\r\u001b[K     |██████████████▎                 | 542 kB 23.6 MB/s eta 0:00:01\r\u001b[K     |██████████████▋                 | 552 kB 23.6 MB/s eta 0:00:01\r\u001b[K     |██████████████▉                 | 563 kB 23.6 MB/s eta 0:00:01\r\u001b[K     |███████████████▏                | 573 kB 23.6 MB/s eta 0:00:01\r\u001b[K     |███████████████▍                | 583 kB 23.6 MB/s eta 0:00:01\r\u001b[K     |███████████████▋                | 593 kB 23.6 MB/s eta 0:00:01\r\u001b[K     |████████████████                | 604 kB 23.6 MB/s eta 0:00:01\r\u001b[K     |████████████████▏               | 614 kB 23.6 MB/s eta 0:00:01\r\u001b[K     |████████████████▌               | 624 kB 23.6 MB/s eta 0:00:01\r\u001b[K     |████████████████▊               | 634 kB 23.6 MB/s eta 0:00:01\r\u001b[K     |█████████████████               | 645 kB 23.6 MB/s eta 0:00:01\r\u001b[K     |█████████████████▎              | 655 kB 23.6 MB/s eta 0:00:01\r\u001b[K     |█████████████████▌              | 665 kB 23.6 MB/s eta 0:00:01\r\u001b[K     |█████████████████▉              | 675 kB 23.6 MB/s eta 0:00:01\r\u001b[K     |██████████████████              | 686 kB 23.6 MB/s eta 0:00:01\r\u001b[K     |██████████████████▍             | 696 kB 23.6 MB/s eta 0:00:01\r\u001b[K     |██████████████████▋             | 706 kB 23.6 MB/s eta 0:00:01\r\u001b[K     |███████████████████             | 716 kB 23.6 MB/s eta 0:00:01\r\u001b[K     |███████████████████▏            | 727 kB 23.6 MB/s eta 0:00:01\r\u001b[K     |███████████████████▍            | 737 kB 23.6 MB/s eta 0:00:01\r\u001b[K     |███████████████████▊            | 747 kB 23.6 MB/s eta 0:00:01\r\u001b[K     |████████████████████            | 757 kB 23.6 MB/s eta 0:00:01\r\u001b[K     |████████████████████▎           | 768 kB 23.6 MB/s eta 0:00:01\r\u001b[K     |████████████████████▌           | 778 kB 23.6 MB/s eta 0:00:01\r\u001b[K     |████████████████████▉           | 788 kB 23.6 MB/s eta 0:00:01\r\u001b[K     |█████████████████████           | 798 kB 23.6 MB/s eta 0:00:01\r\u001b[K     |█████████████████████▎          | 808 kB 23.6 MB/s eta 0:00:01\r\u001b[K     |█████████████████████▋          | 819 kB 23.6 MB/s eta 0:00:01\r\u001b[K     |█████████████████████▉          | 829 kB 23.6 MB/s eta 0:00:01\r\u001b[K     |██████████████████████▏         | 839 kB 23.6 MB/s eta 0:00:01\r\u001b[K     |██████████████████████▍         | 849 kB 23.6 MB/s eta 0:00:01\r\u001b[K     |██████████████████████▊         | 860 kB 23.6 MB/s eta 0:00:01\r\u001b[K     |███████████████████████         | 870 kB 23.6 MB/s eta 0:00:01\r\u001b[K     |███████████████████████▏        | 880 kB 23.6 MB/s eta 0:00:01\r\u001b[K     |███████████████████████▌        | 890 kB 23.6 MB/s eta 0:00:01\r\u001b[K     |███████████████████████▊        | 901 kB 23.6 MB/s eta 0:00:01\r\u001b[K     |████████████████████████        | 911 kB 23.6 MB/s eta 0:00:01\r\u001b[K     |████████████████████████▎       | 921 kB 23.6 MB/s eta 0:00:01\r\u001b[K     |████████████████████████▋       | 931 kB 23.6 MB/s eta 0:00:01\r\u001b[K     |████████████████████████▉       | 942 kB 23.6 MB/s eta 0:00:01\r\u001b[K     |█████████████████████████       | 952 kB 23.6 MB/s eta 0:00:01\r\u001b[K     |█████████████████████████▍      | 962 kB 23.6 MB/s eta 0:00:01\r\u001b[K     |█████████████████████████▋      | 972 kB 23.6 MB/s eta 0:00:01\r\u001b[K     |██████████████████████████      | 983 kB 23.6 MB/s eta 0:00:01\r\u001b[K     |██████████████████████████▏     | 993 kB 23.6 MB/s eta 0:00:01\r\u001b[K     |██████████████████████████▌     | 1.0 MB 23.6 MB/s eta 0:00:01\r\u001b[K     |██████████████████████████▊     | 1.0 MB 23.6 MB/s eta 0:00:01\r\u001b[K     |███████████████████████████     | 1.0 MB 23.6 MB/s eta 0:00:01\r\u001b[K     |███████████████████████████▎    | 1.0 MB 23.6 MB/s eta 0:00:01\r\u001b[K     |███████████████████████████▌    | 1.0 MB 23.6 MB/s eta 0:00:01\r\u001b[K     |███████████████████████████▉    | 1.1 MB 23.6 MB/s eta 0:00:01\r\u001b[K     |████████████████████████████    | 1.1 MB 23.6 MB/s eta 0:00:01\r\u001b[K     |████████████████████████████▍   | 1.1 MB 23.6 MB/s eta 0:00:01\r\u001b[K     |████████████████████████████▋   | 1.1 MB 23.6 MB/s eta 0:00:01\r\u001b[K     |████████████████████████████▉   | 1.1 MB 23.6 MB/s eta 0:00:01\r\u001b[K     |█████████████████████████████▏  | 1.1 MB 23.6 MB/s eta 0:00:01\r\u001b[K     |█████████████████████████████▍  | 1.1 MB 23.6 MB/s eta 0:00:01\r\u001b[K     |█████████████████████████████▊  | 1.1 MB 23.6 MB/s eta 0:00:01\r\u001b[K     |██████████████████████████████  | 1.1 MB 23.6 MB/s eta 0:00:01\r\u001b[K     |██████████████████████████████▎ | 1.1 MB 23.6 MB/s eta 0:00:01\r\u001b[K     |██████████████████████████████▌ | 1.2 MB 23.6 MB/s eta 0:00:01\r\u001b[K     |██████████████████████████████▊ | 1.2 MB 23.6 MB/s eta 0:00:01\r\u001b[K     |███████████████████████████████ | 1.2 MB 23.6 MB/s eta 0:00:01\r\u001b[K     |███████████████████████████████▎| 1.2 MB 23.6 MB/s eta 0:00:01\r\u001b[K     |███████████████████████████████▋| 1.2 MB 23.6 MB/s eta 0:00:01\r\u001b[K     |███████████████████████████████▉| 1.2 MB 23.6 MB/s eta 0:00:01\r\u001b[K     |████████████████████████████████| 1.2 MB 23.6 MB/s \n",
            "\u001b[?25hInstalling collected packages: sentencepiece\n",
            "Successfully installed sentencepiece-0.1.96\n"
          ]
        }
      ]
    },
    {
      "cell_type": "markdown",
      "source": [
        "## Load Model"
      ],
      "metadata": {
        "id": "YvsBMrON0tBI"
      }
    },
    {
      "cell_type": "code",
      "source": [
        "# Importing dependencies from transformers\n",
        "# PegasusTokenizer converts sentences into set of tokens\n",
        "# PegasusForConditionalGeneration class initiates the encoder-decoder model to work on the specific data\n",
        "\n",
        "from transformers import PegasusForConditionalGeneration, PegasusTokenizer"
      ],
      "metadata": {
        "id": "w0PK616_rLlE"
      },
      "execution_count": 13,
      "outputs": []
    },
    {
      "cell_type": "code",
      "source": [
        "# from_pretrained method is used to load existing pegasus tokenizer\n",
        "# create tokenizer\n",
        "\n",
        "tokenizer = PegasusTokenizer.from_pretrained(\"google/pegasus-xsum\")"
      ],
      "metadata": {
        "id": "CVHIh-Te0wuy"
      },
      "execution_count": 16,
      "outputs": []
    },
    {
      "cell_type": "code",
      "source": [
        "#this command is used to load the existing model\n",
        "\n",
        "model = PegasusForConditionalGeneration.from_pretrained(\"google/pegasus-xsum\")"
      ],
      "metadata": {
        "id": "V3X0oJh40zZF"
      },
      "execution_count": 17,
      "outputs": []
    },
    {
      "cell_type": "markdown",
      "source": [
        "## Abstractive Summarization"
      ],
      "metadata": {
        "id": "UjF1kgBb3wx1"
      }
    },
    {
      "cell_type": "code",
      "source": [
        "#cut paste content or blocks of text in the \"text\" variable\n",
        "text = \"\"\"\n",
        "Deep learning applications are used in industries from automated driving to medical devices.\n",
        "Automated Driving: Automotive researchers are using deep learning to automatically detect objects such as stop signs and traffic lights. \n",
        "In addition, deep learning is used to detect pedestrians, which helps decrease accidents.\n",
        "Aerospace and Defense: Deep learning is used to identify objects from satellites that locate areas of interest, and identify safe or unsafe zones for troops.\n",
        "Medical Research: Cancer researchers are using deep learning to automatically detect cancer cells. \n",
        "Teams at UCLA built an advanced microscope that yields a high-dimensional data set used to train a deep learning application to accurately identify cancer cells.\n",
        "Industrial Automation: Deep learning is helping to improve worker safety around heavy machinery by automatically detecting when people or objects are within an unsafe distance of machines.\n",
        "Electronics: Deep learning is being used in automated hearing and speech translation. For example, home assistance devices that respond to your voice and know your preferences are powered by deep learning applications.\n",
        "\"\"\""
      ],
      "metadata": {
        "id": "01yyuMjy15VF"
      },
      "execution_count": 33,
      "outputs": []
    },
    {
      "cell_type": "code",
      "source": [
        "# Create tokens - number representation of our text\n",
        "\n",
        "#tokenizer(argument_1, <truncate the text>, padding length)\n",
        "# returning pytorch tensors\n",
        "# encoding the input text\n",
        "\n",
        "tokens = tokenizer(text, truncation=True, padding=\"longest\", return_tensors=\"pt\")"
      ],
      "metadata": {
        "id": "GDAkP9Ij33OD"
      },
      "execution_count": 41,
      "outputs": []
    },
    {
      "cell_type": "code",
      "source": [
        "# Input tokens\n",
        "tokens"
      ],
      "metadata": {
        "colab": {
          "base_uri": "https://localhost:8080/"
        },
        "id": "tqSp5w_j35pY",
        "outputId": "c80f0e4a-20f6-443c-98cd-54ccb1ece976"
      },
      "execution_count": 42,
      "outputs": [
        {
          "output_type": "execute_result",
          "data": {
            "text/plain": [
              "{'input_ids': tensor([[ 7496,   761,  1160,   127,   263,   115,  3217,   135,  5640,  1528,\n",
              "           112,   941,  1375,   107, 30578, 12633,   151, 12765,  2995,   127,\n",
              "           303,  1355,   761,   112,  2093,  6595,  3195,   253,   130,   923,\n",
              "          2566,   111,  1619,  2407,   107,   222,   663,   108,  1355,   761,\n",
              "           117,   263,   112,  6595, 20477,   108,   162,  1107,  5148,  6176,\n",
              "           107, 25029,   111,  7660,   151,  7496,   761,   117,   263,   112,\n",
              "          1956,  3195,   135, 19469,   120,  5386,   633,   113,   820,   108,\n",
              "           111,  1956,   963,   132, 16028,  8141,   118,  7736,   107,  2647,\n",
              "          1810,   151,  5918,  2995,   127,   303,  1355,   761,   112,  2093,\n",
              "          6595,  1695,  2361,   107, 16968,   134, 18046,   836,   142,  1630,\n",
              "         20632,   120, 11042,   114,   281,   121, 10969,   335,   323,   263,\n",
              "           112,  1976,   114,  1355,   761,   723,   112,  7127,  1956,  1695,\n",
              "          2361,   107,  5411, 16869,   151,  7496,   761,   117,  1360,   112,\n",
              "           927,  5631,  1008,   279,  1751,  6771,   141,  2093, 21227,   173,\n",
              "           200,   132,  3195,   127,   373,   142, 16028,  2028,   113,  2752,\n",
              "           107, 11921,   151,  7496,   761,   117,   270,   263,   115,  5640,\n",
              "          2434,   111,  3442,  5256,   107,   321,   587,   108,   238,  2057,\n",
              "          1375,   120,  2847,   112,   128,  1773,   111,   235,   128,  6014,\n",
              "           127,  5335,   141,  1355,   761,  1160,   107,     1]]), 'attention_mask': tensor([[1, 1, 1, 1, 1, 1, 1, 1, 1, 1, 1, 1, 1, 1, 1, 1, 1, 1, 1, 1, 1, 1, 1, 1,\n",
              "         1, 1, 1, 1, 1, 1, 1, 1, 1, 1, 1, 1, 1, 1, 1, 1, 1, 1, 1, 1, 1, 1, 1, 1,\n",
              "         1, 1, 1, 1, 1, 1, 1, 1, 1, 1, 1, 1, 1, 1, 1, 1, 1, 1, 1, 1, 1, 1, 1, 1,\n",
              "         1, 1, 1, 1, 1, 1, 1, 1, 1, 1, 1, 1, 1, 1, 1, 1, 1, 1, 1, 1, 1, 1, 1, 1,\n",
              "         1, 1, 1, 1, 1, 1, 1, 1, 1, 1, 1, 1, 1, 1, 1, 1, 1, 1, 1, 1, 1, 1, 1, 1,\n",
              "         1, 1, 1, 1, 1, 1, 1, 1, 1, 1, 1, 1, 1, 1, 1, 1, 1, 1, 1, 1, 1, 1, 1, 1,\n",
              "         1, 1, 1, 1, 1, 1, 1, 1, 1, 1, 1, 1, 1, 1, 1, 1, 1, 1, 1, 1, 1, 1, 1, 1,\n",
              "         1, 1, 1, 1, 1, 1, 1, 1, 1, 1, 1, 1, 1, 1, 1, 1, 1, 1, 1, 1]])}"
            ]
          },
          "metadata": {},
          "execution_count": 42
        }
      ]
    },
    {
      "cell_type": "code",
      "source": [
        "# Summarize \n",
        "# ** is used to unpack/decode the tokens\n",
        "\n",
        "summary = model.generate(**tokens)"
      ],
      "metadata": {
        "id": "W0e2WR074B4G"
      },
      "execution_count": 43,
      "outputs": []
    },
    {
      "cell_type": "code",
      "source": [
        "# Output summary tokens\n",
        "summary[0]"
      ],
      "metadata": {
        "colab": {
          "base_uri": "https://localhost:8080/"
        },
        "id": "K66HLUY94ERy",
        "outputId": "e97f9028-3588-4a1d-849c-ebb9fa88d718"
      },
      "execution_count": 37,
      "outputs": [
        {
          "output_type": "execute_result",
          "data": {
            "text/plain": [
              "tensor([   0, 7496,  761,  117,  114, 4444,  113,  958, 1578,  120, 1481, 1157,\n",
              "         761,  112,  543,  135,  423, 3912,  113,  335,  107,    1])"
            ]
          },
          "metadata": {},
          "execution_count": 37
        }
      ]
    },
    {
      "cell_type": "code",
      "source": [
        "# Decode summary\n",
        "tokenizer.decode(summary[0])"
      ],
      "metadata": {
        "colab": {
          "base_uri": "https://localhost:8080/",
          "height": 35
        },
        "id": "DCmPEkkp4Jhq",
        "outputId": "7361740d-a4ab-413b-9cab-44cdc914d8fb"
      },
      "execution_count": 38,
      "outputs": [
        {
          "output_type": "execute_result",
          "data": {
            "text/plain": [
              "'Deep learning is a branch of computer science that uses machine learning to learn from large amounts of data.'"
            ],
            "application/vnd.google.colaboratory.intrinsic+json": {
              "type": "string"
            }
          },
          "metadata": {},
          "execution_count": 38
        }
      ]
    },
    {
      "cell_type": "code",
      "source": [
        ""
      ],
      "metadata": {
        "id": "gXn7UNyR4MSX"
      },
      "execution_count": 38,
      "outputs": []
    }
  ]
}